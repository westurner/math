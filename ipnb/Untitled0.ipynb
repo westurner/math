{
    "worksheets": [
        {
            "cells": [
                {
                    "cell_type": "code", 
                    "language": "python", 
                    "outputs": [
                        {
                            "output_type": "stream", 
                            "stream": "stdout", 
                            "text": "{&apos;A&apos;: 1, &apos;C&apos;: 1, &apos;B&apos;: 1, &apos;E&apos;: 1, &apos;D&apos;: 1, &apos;G&apos;: 1, &apos;F&apos;: 1}\n[&apos;A&apos;, &apos;B&apos;, &apos;C&apos;, &apos;D&apos;, &apos;G&apos;, &apos;B&apos;, &apos;E&apos;, &apos;F&apos;]\n"
                        }
                    ], 
                    "collapsed": false, 
                    "prompt_number": 8, 
                    "input": "from itertools import chain\ndef ordered_uniq(*lists):\n    d={}\n    pkgs = list( ((p not in d) and d.__setitem__(p,1) or p)\n            or (d.__setitem__(p, d[p]+1) or None)\n            for p in chain(*lists))\n    print d\n    return pkgs\n\ndef ordered_uniq2(*lists):\n    d={}\n    for p in chain(*lists):\n        if p not in d:\n            d[p]=True\n            yield p\n\nl1=['A','B','C','D']\nl2=['G','B','E','F']\nprint list(ordered_uniq(l1, l2))"
                }, 
                {
                    "cell_type": "code", 
                    "language": "python", 
                    "outputs": [
                        {
                            "output_type": "pyout", 
                            "prompt_number": 4, 
                            "text": "[&apos;__class__&apos;,\n &apos;__cmp__&apos;,\n &apos;__contains__&apos;,\n &apos;__delattr__&apos;,\n &apos;__delitem__&apos;,\n &apos;__doc__&apos;,\n &apos;__eq__&apos;,\n &apos;__format__&apos;,\n &apos;__ge__&apos;,\n &apos;__getattribute__&apos;,\n &apos;__getitem__&apos;,\n &apos;__gt__&apos;,\n &apos;__hash__&apos;,\n &apos;__init__&apos;,\n &apos;__iter__&apos;,\n &apos;__le__&apos;,\n &apos;__len__&apos;,\n &apos;__lt__&apos;,\n &apos;__ne__&apos;,\n &apos;__new__&apos;,\n &apos;__reduce__&apos;,\n &apos;__reduce_ex__&apos;,\n &apos;__repr__&apos;,\n &apos;__setattr__&apos;,\n &apos;__setitem__&apos;,\n &apos;__sizeof__&apos;,\n &apos;__str__&apos;,\n &apos;__subclasshook__&apos;,\n &apos;clear&apos;,\n &apos;copy&apos;,\n &apos;fromkeys&apos;,\n &apos;get&apos;,\n &apos;has_key&apos;,\n &apos;items&apos;,\n &apos;iteritems&apos;,\n &apos;iterkeys&apos;,\n &apos;itervalues&apos;,\n &apos;keys&apos;,\n &apos;pop&apos;,\n &apos;popitem&apos;,\n &apos;setdefault&apos;,\n &apos;update&apos;,\n &apos;values&apos;]"
                        }
                    ], 
                    "collapsed": false, 
                    "prompt_number": 4, 
                    "input": "dir(dict)"
                }, 
                {
                    "input": "", 
                    "cell_type": "code", 
                    "collapsed": true, 
                    "language": "python", 
                    "outputs": []
                }
            ]
        }
    ], 
    "metadata": {
        "name": "Untitled0"
    }, 
    "nbformat": 2
}