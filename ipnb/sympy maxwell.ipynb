{
    "worksheets": [
        {
            "cells": [
                {
                    "cell_type": "code", 
                    "language": "python", 
                    "outputs": [
                        {
                            "output_type": "pyerr", 
                            "evalue": "name 'gamma_t' is not defined", 
                            "traceback": [
                                "<span class=\"ansired\">---------------------------------------------------------------------------</span>\n<span class=\"ansired\">NameError</span>                                 Traceback (most recent call last)", 
                                "<span class=\"ansigreen\">/media/walrus/tools/ipython/ipython/docs/&lt;ipython-input-1-1a65dd43ee88&gt;</span> in <span class=\"ansicyan\">&lt;module&gt;</span><span class=\"ansiblue\">()</span>\n<span class=\"ansigreen\">     22</span>     B<span class=\"ansiyellow\">.</span>set_coef<span class=\"ansiyellow\">(</span><span class=\"ansicyan\">1</span><span class=\"ansiyellow\">,</span><span class=\"ansicyan\">0</span><span class=\"ansiyellow\">,</span><span class=\"ansicyan\">0</span><span class=\"ansiyellow\">)</span><span class=\"ansiyellow\"></span>\n<span class=\"ansigreen\">     23</span>     E<span class=\"ansiyellow\">.</span>set_coef<span class=\"ansiyellow\">(</span><span class=\"ansicyan\">1</span><span class=\"ansiyellow\">,</span><span class=\"ansicyan\">0</span><span class=\"ansiyellow\">,</span><span class=\"ansicyan\">0</span><span class=\"ansiyellow\">)</span><span class=\"ansiyellow\"></span>\n<span class=\"ansigreen\">---&gt; 24</span><span class=\"ansiyellow\">     </span>B <span class=\"ansiyellow\">*=</span> gamma_t<span class=\"ansiyellow\"></span>\n<span class=\"ansigreen\">     25</span>     E <span class=\"ansiyellow\">*=</span> gamma_t<span class=\"ansiyellow\"></span>\n<span class=\"ansigreen\">     26</span>     J <span class=\"ansiyellow\">=</span> MV<span class=\"ansiyellow\">(</span><span class=\"ansiblue\">&apos;J&apos;</span><span class=\"ansiyellow\">,</span><span class=\"ansiblue\">&apos;vector&apos;</span><span class=\"ansiyellow\">,</span>fct<span class=\"ansiyellow\">=</span>True<span class=\"ansiyellow\">)</span><span class=\"ansiyellow\"></span>\n", 
                                "<span class=\"ansired\">NameError</span>: name &apos;gamma_t&apos; is not defined"
                            ], 
                            "ename": "NameError"
                        }
                    ], 
                    "collapsed": false, 
                    "prompt_number": 1, 
                    "input": "from sympy import *\nfrom sympy.galgebra.GA import *\nfrom sympy.galgebra.latex_ex import *\n\nset_main(sys.modules[__name__])\n\nif __name__ == '__main__':\n    \n    metric = '1  0  0  0,'+\\\n             '0 -1  0  0,'+\\\n             '0  0 -1  0,'+\\\n             '0  0  0 -1'\n\n    vars = make_symbols('t x y z')\n    MV.setup('gamma_t gamma_x gamma_y gamma_z',metric,True,vars)\n    LatexPrinter.format(1,1,1,1)\n    I = MV(1,'pseudo')\n    print '$I$ Pseudo-Scalar'\n    print 'I =',I\n    B = MV('B','vector',fct=True)\n    E = MV('E','vector',fct=True)\n    B.set_coef(1,0,0)\n    E.set_coef(1,0,0)\n    B *= gamma_t\n    E *= gamma_t\n    J = MV('J','vector',fct=True)\n    F = E+I*B\n    print ' '\n    print '$B$ Magnetic Field Bi-Vector'\n    print 'B = Bvec gamma_0 =',B\n    print '$F$ Electric Field Bi-Vector'\n    print 'E = Evec gamma_0 =',E\n    print '$E+IB$ Electo-Magnetic Field Bi-Vector'\n    print 'F = E+IB =',F\n    print '$J$ Four Current'\n    print 'J =',J\n    gradF = F.grad()\n    print 'Geometric Derivative of Electo-Magnetic Field Bi-Vector'\n    MV_format(3)\n    print '\\\\nabla F =',gradF\n    print 'All Maxwell Equations are'\n    print '\\\\nabla F = J'\n    print 'Div $E$ and Curl $H$ Equations'\n    print '<\\\\nabla F>_1 -J =',gradF.project(1)-J,' = 0'\n    print 'Curl $E$ and Div $B$ equations'\n    print '<\\\\nabla F>_3 =',gradF.project(3),' = 0'\n    xdvi(filename='Maxwell.tex',debug=True)"
                }, 
                {
                    "input": "", 
                    "cell_type": "code", 
                    "collapsed": true, 
                    "language": "python", 
                    "outputs": []
                }
            ]
        }
    ], 
    "metadata": {
        "name": "sympy maxwell"
    }, 
    "nbformat": 2
}