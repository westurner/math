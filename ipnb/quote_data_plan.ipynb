{
 "metadata": {
  "name": "quote_data_plan"
 },
 "nbformat": 3,
 "nbformat_minor": 0,
 "worksheets": [
  {
   "cells": [
    {
     "cell_type": "code",
     "collapsed": false,
     "input": [
      "# http://forums.ilounge.com/digital-audio-formats/68487-calculating-file-size-bitrate.html\n",
      "\n",
      "# http://en.wikipedia.org/wiki/Adaptive_Multi-Rate\n",
      "AMR = {'12.20':12.20}\n",
      "\n",
      "def calculate_call_mb(minutes=10, kbps=AMR['12.20']):\n",
      "    seconds = minutes*60\n",
      "    kilobits = (kbps*seconds) / 8.0\n",
      "    mb = float(kilobits) / 1024.0\n",
      "    return mb\n",
      "\n",
      "def data_transfer_in_minutes(transfergb=0.134, kbps=AMR['12.20']):\n",
      "    gbits = transfergb * 1024**3 * 8.0\n",
      "    seconds = (gbits / (kbps * 1024.0))\n",
      "    return seconds / 60.0\n",
      "\n",
      "minutes = 1500\n",
      "mb = calculate_call_mb(minutes)\n",
      "print(\"%d minutes = %.3f mb\" % (minutes, mb))\n",
      "assert data_transfer_in_minutes(mb / 1024.0) == minutes\n",
      "\n",
      "data = 1\n",
      "print(\"%.3f gb = %.2f minutes\" % (data, data_transfer_in_minutes(data)))\n",
      "\n",
      "# 1500 minutes = 134.033 mb\n",
      "# 1.000 gb = 11459.85 minutes"
     ],
     "language": "python",
     "metadata": {},
     "outputs": [
      {
       "output_type": "stream",
       "stream": "stdout",
       "text": [
        "1500 minutes = 134.033 mb\n",
        "1.000 gb = 11459.85 minutes\n"
       ]
      }
     ],
     "prompt_number": 41
    }
   ],
   "metadata": {}
  }
 ]
}