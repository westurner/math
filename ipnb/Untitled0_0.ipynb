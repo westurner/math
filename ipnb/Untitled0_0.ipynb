{
 "metadata": {
  "name": "Untitled0"
 },
 "nbformat": 3,
 "nbformat_minor": 0,
 "worksheets": [
  {
   "cells": [
    {
     "cell_type": "code",
     "collapsed": false,
     "input": [
      "import locale\n",
      "locale.setlocale(locale.LC_ALL, locale.getdefaultlocale())\n",
      "from pandas import DataFrame, Series, Index, Timestamp, DatetimeIndex\n",
      "from pandas import bdate_range\n",
      "import math\n",
      "import numpy.lib.financial as fin\n",
      "from datetime import datetime\n",
      "import datetime as _datetime\n",
      "from collections import OrderedDict\n",
      "import json\n",
      "\n",
      "class AwareJSONEncoder(json.JSONEncoder):\n",
      "    def default(self, o):\n",
      "        if isinstance(o, (_datetime.datetime, _datetime.date, Timestamp)):\n",
      "            return o.isoformat()\n",
      "        elif isinstance(o, (DataFrame, Series)):\n",
      "            return o.to_dict()\n",
      "        elif isinstance(o, (Index, DatetimeIndex) ):\n",
      "            return o.tolist()\n",
      "        return json.JSONEncoder.encode(self,o)\n",
      "    \n",
      "json._default_encoder = AwareJSONEncoder(\n",
      "    skipkeys=False,\n",
      "    ensure_ascii=True,\n",
      "    check_circular=True,\n",
      "    allow_nan=True,\n",
      "    indent=None,\n",
      "    separators=None,\n",
      "    encoding='utf-8',\n",
      "    default=None,\n",
      ")\n",
      "\n",
      "\n",
      "class DataDict(OrderedDict):\n",
      "    def __init__(self, *args, **kwargs):\n",
      "        self.__name = kwargs.pop('name','')\n",
      "        self.__ctime = datetime.now()\n",
      "        self.__mtime = datetime.now()\n",
      "        return OrderedDict.__init__(self, *args, **kwargs)\n",
      "    def __setattr__(self, attr, value):\n",
      "        if attr.startswith('_OrderedDict') or attr.startswith('_DataDict'):\n",
      "            return OrderedDict.__setattr__(self, attr, value)\n",
      "        print(\"%s=%r\" % (attr,value))\n",
      "        self.__mtime = datetime.now()\n",
      "        return OrderedDict.__setitem__(self, attr, value)\n",
      "    def __getattr__(self, attr):\n",
      "        if attr.startswith('_OrderedDict') or attr.startswith('_DataDict'):\n",
      "            return OrderedDict.__getattr__(self, attr)\n",
      "        return OrderedDict.__getitem__(self, attr)\n",
      "    @property\n",
      "    def name(self):\n",
      "        return self.__name\n",
      "    @property\n",
      "    def ctime(self):\n",
      "        return self.__ctime\n",
      "    @property\n",
      "    def mtime(self):\n",
      "        return self.__mtime\n",
      "    def to_json(self):\n",
      "        return json.dumps({\n",
      "            '_meta': {\n",
      "                   'name': self.name,\n",
      "                   'ctime': self.ctime,\n",
      "                   'mtime': self.mtime,\n",
      "            },\n",
      "            'data': self\n",
      "        })\n",
      "t = DataDict(name='test')\n",
      "t.test = True\n",
      "print(t.test)\n",
      "print t.name\n",
      "print t.to_json()"
     ],
     "language": "python",
     "metadata": {},
     "outputs": [
      {
       "output_type": "stream",
       "stream": "stdout",
       "text": [
        "test=True\n",
        "True\n",
        "test\n",
        "{\"data\": {\"test\": true}, \"_meta\": {\"mtime\": \"2012-08-18T18:29:11.391009\", \"name\": \"test\", \"ctime\": \"2012-08-18T18:29:11.390742\"}}\n"
       ]
      }
     ],
     "prompt_number": 55
    },
    {
     "cell_type": "code",
     "collapsed": false,
     "input": [
      "d = data = DataDict()\n",
      "d.start = datetime(2003, 6, 26)\n",
      "d.end = datetime(2012, 8, 18)\n",
      "d.actual_days = d.end-d.start\n",
      "d.actual_years = d.actual_days.days / 365.25\n",
      "d.bdays = bdate_range(d.start,d.end)\n",
      "d.bhours = len(d.bdays)*8\n",
      "d.rate = 60\n",
      "d.total_pay=d.rate*d.bhours\n",
      "d.yearly_living_expenses = 30000\n",
      "d.disposable_income = d.total_pay - (d.yearly_living_expenses*d.actual_years)\n",
      "d.interest_rate = 0.05\n",
      "d.starting_balance = 3000\n",
      "d.due = fin.fv(d.interest_rate/12, math.ceil(d.actual_years*12), -d.disposable_income/12, -d.starting_balance)\n",
      "def format_currency(amnt):\n",
      "    localized_amnt = locale.currency(amnt, symbol=False)\n",
      "    _amnt = float(localized_amnt)\n",
      "    def add_commas(amnt):\n",
      "        before,after = str(amnt).split('.',1)\n",
      "        for c in after[::-1]:\n",
      "            yield c\n",
      "        yield '.'\n",
      "        for i,c in enumerate( before[::-1] ):\n",
      "            if i and not (i%3):\n",
      "                yield ','\n",
      "            yield c\n",
      "    return '$%s' % ''.join(add_commas(_amnt))[::-1]\n",
      "\n",
      "d.due_formatted=format_currency(d.due)\n",
      "\n",
      "\n",
      "e = expenses = DataDict()\n",
      "e.house = 400000\n",
      "e.twocars = 100000\n",
      "e.pool = 20000\n",
      "e.ring = 0.01 # \"had to eat three boxes of crackerjacks to find it\"\n",
      "e.doghouse = 1000\n"
     ],
     "language": "python",
     "metadata": {},
     "outputs": [
      {
       "output_type": "stream",
       "stream": "stdout",
       "text": [
        "start=datetime.datetime(2003, 6, 26, 0, 0)\n",
        "end=datetime.datetime(2012, 8, 18, 0, 0)\n",
        "actual_days=datetime.timedelta(3341)\n",
        "actual_years=9.14715947980835\n",
        "bdays=<class 'pandas.tseries.index.DatetimeIndex'>\n",
        "[2003-06-26 00:00:00, ..., 2012-08-17 00:00:00]\n",
        "Length: 2387, Freq: B, Timezone: None\n",
        "bhours=19096\n",
        "rate=60\n",
        "total_pay=1145760\n",
        "yearly_living_expenses=30000\n",
        "disposable_income=871345.2156057495\n",
        "interest_rate=0.05\n",
        "starting_balance=3000\n",
        "due=10111140.217119997\n",
        "due_formatted='$10,111,140.22'\n",
        "house=400000\n",
        "twocars=100000\n",
        "pool=20000\n",
        "ring=0.01\n",
        "doghouse=1000\n"
       ]
      }
     ],
     "prompt_number": 56
    },
    {
     "cell_type": "code",
     "collapsed": false,
     "input": [
      "import numpy as np\n",
      "df = DataFrame(np.random.randint(0,10,10), Index(range(10)))\n",
      "print(df.to_dict())\n",
      "\n",
      "t = AwareJSONEncoder().encode(df)\n",
      "print(t)"
     ],
     "language": "python",
     "metadata": {},
     "outputs": [
      {
       "ename": "TypeError",
       "evalue": "keys must be a string",
       "output_type": "pyerr",
       "traceback": [
        "\u001b[1;31m---------------------------------------------------------------------------\u001b[0m\n\u001b[1;31mTypeError\u001b[0m                                 Traceback (most recent call last)",
        "\u001b[1;32m<ipython-input-59-48e801fd0375>\u001b[0m in \u001b[0;36m<module>\u001b[1;34m()\u001b[0m\n\u001b[0;32m      3\u001b[0m \u001b[1;32mprint\u001b[0m\u001b[1;33m(\u001b[0m\u001b[0mdf\u001b[0m\u001b[1;33m.\u001b[0m\u001b[0mto_dict\u001b[0m\u001b[1;33m(\u001b[0m\u001b[1;33m)\u001b[0m\u001b[1;33m)\u001b[0m\u001b[1;33m\u001b[0m\u001b[0m\n\u001b[0;32m      4\u001b[0m \u001b[1;33m\u001b[0m\u001b[0m\n\u001b[1;32m----> 5\u001b[1;33m \u001b[0mt\u001b[0m \u001b[1;33m=\u001b[0m \u001b[0mAwareJSONEncoder\u001b[0m\u001b[1;33m(\u001b[0m\u001b[1;33m)\u001b[0m\u001b[1;33m.\u001b[0m\u001b[0mencode\u001b[0m\u001b[1;33m(\u001b[0m\u001b[0mdf\u001b[0m\u001b[1;33m)\u001b[0m\u001b[1;33m\u001b[0m\u001b[0m\n\u001b[0m\u001b[0;32m      6\u001b[0m \u001b[1;32mprint\u001b[0m\u001b[1;33m(\u001b[0m\u001b[0mt\u001b[0m\u001b[1;33m)\u001b[0m\u001b[1;33m\u001b[0m\u001b[0m\n",
        "\u001b[1;32m/usr/lib/python2.7/json/encoder.pyc\u001b[0m in \u001b[0;36mencode\u001b[1;34m(self, o)\u001b[0m\n\u001b[0;32m    199\u001b[0m         \u001b[1;31m# exceptions aren't as detailed.  The list call should be roughly\u001b[0m\u001b[1;33m\u001b[0m\u001b[1;33m\u001b[0m\u001b[0m\n\u001b[0;32m    200\u001b[0m         \u001b[1;31m# equivalent to the PySequence_Fast that ''.join() would do.\u001b[0m\u001b[1;33m\u001b[0m\u001b[1;33m\u001b[0m\u001b[0m\n\u001b[1;32m--> 201\u001b[1;33m         \u001b[0mchunks\u001b[0m \u001b[1;33m=\u001b[0m \u001b[0mself\u001b[0m\u001b[1;33m.\u001b[0m\u001b[0miterencode\u001b[0m\u001b[1;33m(\u001b[0m\u001b[0mo\u001b[0m\u001b[1;33m,\u001b[0m \u001b[0m_one_shot\u001b[0m\u001b[1;33m=\u001b[0m\u001b[0mTrue\u001b[0m\u001b[1;33m)\u001b[0m\u001b[1;33m\u001b[0m\u001b[0m\n\u001b[0m\u001b[0;32m    202\u001b[0m         \u001b[1;32mif\u001b[0m \u001b[1;32mnot\u001b[0m \u001b[0misinstance\u001b[0m\u001b[1;33m(\u001b[0m\u001b[0mchunks\u001b[0m\u001b[1;33m,\u001b[0m \u001b[1;33m(\u001b[0m\u001b[0mlist\u001b[0m\u001b[1;33m,\u001b[0m \u001b[0mtuple\u001b[0m\u001b[1;33m)\u001b[0m\u001b[1;33m)\u001b[0m\u001b[1;33m:\u001b[0m\u001b[1;33m\u001b[0m\u001b[0m\n\u001b[0;32m    203\u001b[0m             \u001b[0mchunks\u001b[0m \u001b[1;33m=\u001b[0m \u001b[0mlist\u001b[0m\u001b[1;33m(\u001b[0m\u001b[0mchunks\u001b[0m\u001b[1;33m)\u001b[0m\u001b[1;33m\u001b[0m\u001b[0m\n",
        "\u001b[1;32m/usr/lib/python2.7/json/encoder.pyc\u001b[0m in \u001b[0;36miterencode\u001b[1;34m(self, o, _one_shot)\u001b[0m\n\u001b[0;32m    262\u001b[0m                 \u001b[0mself\u001b[0m\u001b[1;33m.\u001b[0m\u001b[0mkey_separator\u001b[0m\u001b[1;33m,\u001b[0m \u001b[0mself\u001b[0m\u001b[1;33m.\u001b[0m\u001b[0mitem_separator\u001b[0m\u001b[1;33m,\u001b[0m \u001b[0mself\u001b[0m\u001b[1;33m.\u001b[0m\u001b[0msort_keys\u001b[0m\u001b[1;33m,\u001b[0m\u001b[1;33m\u001b[0m\u001b[0m\n\u001b[0;32m    263\u001b[0m                 self.skipkeys, _one_shot)\n\u001b[1;32m--> 264\u001b[1;33m         \u001b[1;32mreturn\u001b[0m \u001b[0m_iterencode\u001b[0m\u001b[1;33m(\u001b[0m\u001b[0mo\u001b[0m\u001b[1;33m,\u001b[0m \u001b[1;36m0\u001b[0m\u001b[1;33m)\u001b[0m\u001b[1;33m\u001b[0m\u001b[0m\n\u001b[0m\u001b[0;32m    265\u001b[0m \u001b[1;33m\u001b[0m\u001b[0m\n\u001b[0;32m    266\u001b[0m def _make_iterencode(markers, _default, _encoder, _indent, _floatstr,\n",
        "\u001b[1;31mTypeError\u001b[0m: keys must be a string"
       ]
      },
      {
       "output_type": "stream",
       "stream": "stdout",
       "text": [
        "{0: {0: 3, 1: 7, 2: 1, 3: 0, 4: 4, 5: 9, 6: 7, 7: 0, 8: 1, 9: 3}}\n"
       ]
      }
     ],
     "prompt_number": 59
    }
   ],
   "metadata": {}
  }
 ]
}