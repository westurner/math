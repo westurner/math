{
    "worksheets": [
        {
            "cells": [
                {
                    "cell_type": "code", 
                    "language": "python", 
                    "outputs": [
                        {
                            "output_type": "stream", 
                            "stream": "stdout", 
                            "text": "[[ 1.  1.  1.]\n [ 1.  1.  1.]\n [ 1.  1.  1.]]\n[[ 1.  0.  0.]\n [ 2.  1.  0.]\n [ 2.  2.  1.]]\n[[1 2 1]\n [2 1 2]\n [3 2 3]]\n[[ 1.  0.  0.]\n [ 4.  1.  0.]\n [ 6.  4.  3.]]\n[&apos;X&apos;, &apos;X&apos;]\n[&apos;X&apos;, &apos;Y&apos;]\n[&apos;X&apos;, &apos;Y&apos;]\n[&apos;Y&apos;, &apos;Y&apos;]\n1/10"
                        }, 
                        {
                            "output_type": "stream", 
                            "stream": "stdout", 
                            "text": " (1, 10)\n11/100 (11, 100)\n3/25 (3, 25)\n13/100 (13, 100)\n7/50 (7, 50)\n"
                        }
                    ], 
                    "collapsed": false, 
                    "prompt_number": 1, 
                    "input": "import numpy as np\nfrom itertools import product\n\ndef fold(a):\n    return np.tril((a*np.tri(a.shape[0],a.shape[1],-1))+a)\n    \na=np.ones((3,3))\nprint a\nf=fold(a)\nprint f\n\n\na=np.array([[1,2,1],[2,1,2],[3,2,3]],np.int)\nprint a\nprint fold(a)\n\n\n\ndef cartesian(l):\n    return product(*(l,)*len(l))\n\ndef onlyholds(l):\n    return sorted([sorted(p) for p in cartesian(l)])\n\nfor p in onlyholds(['X','Y']):\n    print p\n\n\nclass Index():\n    def __init__(self):\n        self.keys = {}\n        self.count = 0\n\n    def __getitem__(self, k):\n        if k not in self.keys:\n            idx=count\n            self.keys[k] = idx\n            self.count += 1\n            return idx\n        return self.keys[k]\n        \n        \nfrom sympy import symbols\ntotal_n, bins_n = symbols('total_n bins_n')\nprob= (bins_n / total_n)\n\n\nfor i in range(10,15):\n    p = prob.subs({total_n:100, bins_n:i})\n    print p, p.as_numer_denom()\n\ndef x():\n    print prob.subs({total_n:100, bins_n:10})\n    print prob.subs({total_n:101, bins_n:11})\n    print prob.subs({total_n:102, bins_n:12})"
                }, 
                {
                    "input": "", 
                    "cell_type": "code", 
                    "collapsed": true, 
                    "language": "python", 
                    "outputs": []
                }
            ]
        }
    ], 
    "metadata": {
        "name": "Probabilities"
    }, 
    "nbformat": 2
}