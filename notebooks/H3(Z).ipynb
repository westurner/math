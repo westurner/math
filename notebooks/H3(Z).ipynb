{
    "worksheets": [
        {
            "cells": [
                {
                    "cell_type": "code", 
                    "language": "python", 
                    "outputs": [
                        {
                            "output_type": "pyerr", 
                            "evalue": "name 'zx' is not defined", 
                            "traceback": [
                                "<span class=\"ansired\">---------------------------------------------------------------------------</span>\n<span class=\"ansired\">NameError</span>                                 Traceback (most recent call last)", 
                                "<span class=\"ansigreen\">/media/walrus/tools/ipython/ipython/docs/&lt;ipython-input-2-c5dede0b2d0e&gt;</span> in <span class=\"ansicyan\">&lt;module&gt;</span><span class=\"ansiblue\">()</span>\n<span class=\"ansigreen\">     40</span> <span class=\"ansigreen\">print</span> <span class=\"ansiblue\">&quot;\\nxz == zx&quot;</span><span class=\"ansiyellow\"></span>\n<span class=\"ansigreen\">     41</span> <span class=\"ansired\">#xz = (xz)</span>\n<span class=\"ansiyellow\"></span>\n<span class=\"ansigreen\">---&gt; 42</span><span class=\"ansiyellow\"> </span>zx <span class=\"ansiyellow\">=</span> <span class=\"ansiyellow\">(</span>zx<span class=\"ansiyellow\">)</span><span class=\"ansiyellow\"></span>\n<span class=\"ansigreen\">     43</span> <span class=\"ansigreen\">print</span> <span class=\"ansiblue\">&quot;xz =&gt;\\n&quot;</span><span class=\"ansiyellow\">,</span> xz<span class=\"ansiyellow\"></span>\n<span class=\"ansigreen\">     44</span> <span class=\"ansigreen\">print</span> <span class=\"ansiblue\">&quot;zx =&gt;\\n&quot;</span><span class=\"ansiyellow\">,</span> zx<span class=\"ansiyellow\"></span>\n", 
                                "<span class=\"ansired\">NameError</span>: name &apos;zx&apos; is not defined"
                            ], 
                            "ename": "NameError"
                        }, 
                        {
                            "output_type": "stream", 
                            "stream": "stdout", 
                            "text": "x\n[1, 1, 0]\n[0, 1, 0]\n[0, 0, 1]\nx**-1\n[1, -1, 0]\n[0,  1, 0]\n[0,  0, 1]\ny &lt;=\n[1, 0, 0]\n[0, 1, 1]\n[0, 0, 1]\ny**-1 =&gt;\n[1, 0,  0]\n[0, 1, -1]\n[0, 0,  1]\n\nz == x*y*(x**-1)*(y**-1)\nz =&gt; \n[1, 0, 1]\n[0, 1, 0]\n[0, 0, 1]\n\nxz == zx\n"
                        }
                    ], 
                    "collapsed": false, 
                    "prompt_number": 2, 
                    "input": "# http://en.wikipedia.org/wiki/Discrete_Heisenberg_group\n\n# NotImplementedError: Matrix support\n#from sympy import symbols\n#x,y,z=symbols('x y z')\n\n\n\nfrom sympy.matrices import Matrix\n\nx=Matrix([\n[1,1,0],\n[0,1,0],\n[0,0,1],\n])\nprint \"x\\n\",x\nprint \"x**-1\\n\", x.inv()\n\ny=Matrix([\n[1,0,0],\n[0,1,1],\n[0,0,1],\n])\nprint \"y <=\\n\", y\nprint \"y**-1 =>\\n\", y.inv()\n\n# \"the generator of the center of H3. By Bass' theorem, it has a polynomial growth rate of order 4.\" [Wikipedia]\n\nz_val=Matrix([\n[1,0,1],\n[0,1,0],\n[0,0,1],\n])\n\nprint \"\\nz == x*y*(x**-1)*(y**-1)\"\nz=x*y*x.inv()*y.inv()\nprint \"z => \\n\", z\nassert (z == z_val)\n\nprint \"\\nxz == zx\"\n#xz = (xz)\nzx = (zx)\nprint \"xz =>\\n\", xz\nprint \"zx =>\\n\", zx\nassert (xz == zx)\n\n\nprint \"\\nxz == zx\"\nyz = (yz)\nzy = (zy)\nprint \"y*z =>\\n\", yz\nprint \"z*y =>\\n\", zy\nassert (yz == zy)\n\nxy = x*y\nprint \"\\nxy\\n\", xy"
                }, 
                {
                    "input": "", 
                    "cell_type": "code", 
                    "collapsed": true, 
                    "language": "python", 
                    "outputs": []
                }
            ]
        }
    ], 
    "metadata": {
        "name": "H3(Z)"
    }, 
    "nbformat": 2
}