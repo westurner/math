{
    "worksheets": [
        {
            "cells": [
                {
                    "cell_type": "code", 
                    "language": "python", 
                    "outputs": [
                        {
                            "output_type": "stream", 
                            "stream": "stdout", 
                            "text": "http://en.wikiversity.org/wiki/Nonlinear_finite_elements/Weighted_residual_methods#Minimizing_R.28t.29:_Galerkin_Method ?\n"
                        }
                    ], 
                    "collapsed": false, 
                    "prompt_number": 1, 
                    "input": "print 'http://en.wikiversity.org/wiki/Nonlinear_finite_elements/Weighted_residual_methods#Minimizing_R.28t.29:_Galerkin_Method ?'"
                }, 
                {
                    "cell_type": "code", 
                    "language": "python", 
                    "outputs": [
                        {
                            "output_type": "stream", 
                            "stream": "stdout", 
                            "text": "avg - 1.0*avg/(i + 1) + 1.0*val/(i + 1)\navg - 1.0*avg/(i + 1) + 1.0*val/(i + 1)\n8\n(1.0*avg*i + 1.0*val)/(i + 1)\n6\n(avg*i + val)/(i + 1)\n4\n"
                        }
                    ], 
                    "collapsed": false, 
                    "prompt_number": 2, 
                    "input": "import sympy\nfrom sympy import symbols\n\navg,i,weight,val=symbols(('avg','i','weight','val'))\nweight=(1.0 / (i+1))\nnewavg =avg-(avg*weight)+(weight*val)\n\nprint str(newavg)\n#[Out]# avg + val/(1 + i) - avg/(1 + i)\n\nprint newavg\nprint newavg.count_ops()\n\n# From newavg.factor in sympy trunk:\nsimpler = (1.0*avg*i + 1.0*val)/(i + 1)\nprint simpler\nprint simpler.count_ops()\n\n# From newavg.simplify in sympy trunk\n#simplerstill = newavg.simplify()\nsimplerstill = (avg*i + val)/(i + 1)\n\nprint simplerstill\nprint simplerstill.count_ops()"
                }, 
                {
                    "cell_type": "code", 
                    "language": "python", 
                    "outputs": [
                        {
                            "output_type": "stream", 
                            "stream": "stdout", 
                            "text": "0 0\n"
                        }
                    ], 
                    "collapsed": false, 
                    "prompt_number": 3, 
                    "input": "from sympy.plotting import Plot\np=Plot(width=1280,height=1024, axes='label_axes=false; label_ticks=false; overlay=true; ')\nfor (z,n) in enumerate([0]): #range(0,1000,100)):\n    print z, n\n    p.append(newavg.subs({avg:n}),[-100,100],[-100,100],'style=wireframe;')"
                }, 
                {
                    "input": "sympy.plotting.plot.Plot?", 
                    "cell_type": "code", 
                    "collapsed": true, 
                    "language": "python", 
                    "outputs": []
                }
            ]
        }
    ], 
    "metadata": {
        "name": "20110601-Minimizing"
    }, 
    "nbformat": 2
}